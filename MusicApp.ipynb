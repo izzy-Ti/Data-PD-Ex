{
 "cells": [
  {
   "cell_type": "code",
   "execution_count": 76,
   "id": "7726813f-cb19-4a94-8280-2dfef2a0e19f",
   "metadata": {},
   "outputs": [
    {
     "name": "stderr",
     "output_type": "stream",
     "text": [
      "C:\\Users\\Ashenfi\\anaconda3\\Lib\\site-packages\\sklearn\\utils\\validation.py:2739: UserWarning: X does not have valid feature names, but DecisionTreeClassifier was fitted with feature names\n",
      "  warnings.warn(\n"
     ]
    },
    {
     "data": {
      "text/plain": [
       "array(['HipHop', 'Classical'], dtype=object)"
      ]
     },
     "execution_count": 76,
     "metadata": {},
     "output_type": "execute_result"
    }
   ],
   "source": [
    "import pandas as pd\n",
    "from sklearn.tree import DecisionTreeClassifier\n",
    "from sklearn.model_selection import train_test_split\n",
    "from sklearn.metrics import accuracy_score\n",
    "import joblib\n",
    "\n",
    "# mu_data = pd.read_csv('music.csv')\n",
    "# X = mu_data.drop(columns = ['genre'])\n",
    "# Y = mu_data['genre']\n",
    "# X_test, X_train, Y_test, Y_train = train_test_split(X, Y, test_size = 0.5)\n",
    "# model = DecisionTreeClassifier()\n",
    "# model.fit(X_train, Y_train)\n",
    "model = joblib.load('music_recommender.joblib')\n",
    "prediction = model.predict ( [[21,1], [34,0]] )\n",
    "prediction\n",
    "#score  = accuracy_score( Y_test, prediction)\n",
    "#score"
   ]
  },
  {
   "cell_type": "code",
   "execution_count": null,
   "id": "40a4f4b6-8f68-46a3-8292-263b6286f283",
   "metadata": {},
   "outputs": [],
   "source": []
  },
  {
   "cell_type": "code",
   "execution_count": null,
   "id": "a02272ae-9f6f-40d1-8a3a-22339ec9ffc8",
   "metadata": {},
   "outputs": [],
   "source": []
  }
 ],
 "metadata": {
  "kernelspec": {
   "display_name": "Python [conda env:base] *",
   "language": "python",
   "name": "conda-base-py"
  },
  "language_info": {
   "codemirror_mode": {
    "name": "ipython",
    "version": 3
   },
   "file_extension": ".py",
   "mimetype": "text/x-python",
   "name": "python",
   "nbconvert_exporter": "python",
   "pygments_lexer": "ipython3",
   "version": "3.13.5"
  }
 },
 "nbformat": 4,
 "nbformat_minor": 5
}
